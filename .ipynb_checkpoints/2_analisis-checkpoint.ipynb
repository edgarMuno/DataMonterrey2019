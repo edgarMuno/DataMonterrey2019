{
 "cells": [
  {
   "cell_type": "code",
   "execution_count": 3,
   "id": "9cbf81fb-d866-4d66-9fd5-9a7066996939",
   "metadata": {},
   "outputs": [],
   "source": [
    "%matplotlib inline"
   ]
  },
  {
   "cell_type": "code",
   "execution_count": 4,
   "id": "13920425-1508-438e-aa6f-30313c98e56f",
   "metadata": {},
   "outputs": [],
   "source": [
    "import pandas as pd"
   ]
  },
  {
   "cell_type": "code",
   "execution_count": 5,
   "id": "42491d60-945e-4c45-810b-989900c9de15",
   "metadata": {},
   "outputs": [],
   "source": [
    "df_compras = pd.read_csv('compras.csv')"
   ]
  }
 ],
 "metadata": {
  "kernelspec": {
   "display_name": "Python 3 (ipykernel)",
   "language": "python",
   "name": "python3"
  },
  "language_info": {
   "codemirror_mode": {
    "name": "ipython",
    "version": 3
   },
   "file_extension": ".py",
   "mimetype": "text/x-python",
   "name": "python",
   "nbconvert_exporter": "python",
   "pygments_lexer": "ipython3",
   "version": "3.12.3"
  }
 },
 "nbformat": 4,
 "nbformat_minor": 5
}
